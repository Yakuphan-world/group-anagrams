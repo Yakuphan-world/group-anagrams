{
 "cells": [
  {
   "cell_type": "code",
   "execution_count": null,
   "metadata": {},
   "outputs": [],
   "source": [
    "\n",
    "# Python3 code to demonstrate\n",
    "# Grouping Anagrams\n",
    "# using defaultdict() + sorted() + values()\n",
    "from collections import defaultdict\n",
    " \n",
    "# initializing list\n",
    "test_list = ['lump', 'eat',  'me',  'tea', 'em', 'plum']\n",
    " \n",
    "# printing original list\n",
    "print(\"The original list : \" + str(test_list))\n",
    " \n",
    "# using defaultdict() + sorted() + values()\n",
    "# Grouping Anagrams\n",
    "temp = defaultdict(list)\n",
    "for ele in test_list:\n",
    "    temp[str(sorted(ele))].append(ele)\n",
    "res = list(temp.values())\n",
    " \n",
    "# print result\n",
    "print(\"The grouped Anagrams : \" + str(res))"
   ]
  }
 ],
 "metadata": {
  "language_info": {
   "name": "python"
  },
  "orig_nbformat": 4
 },
 "nbformat": 4,
 "nbformat_minor": 2
}
